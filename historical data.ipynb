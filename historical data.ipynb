{
 "cells": [
  {
   "cell_type": "markdown",
   "id": "b58ecfff",
   "metadata": {},
   "source": [
    "### Approach:\n",
    "1. **Read the Input Data**: Loaded the input CSV file using pandas.\n",
    "2. **Preprocessing**: Sorted the data by 'Employee Code' and 'Date of Joining'.\n",
    "3. **Iterate Through Records**: Processed each record iteratively, deriving effective and end dates, and transforming the data into the desired format.\n",
    "4. **Write to Output File**: Saved the transformed data into a new CSV file.\n"
   ]
  },
  {
   "cell_type": "code",
   "execution_count": 20,
   "id": "318bf125",
   "metadata": {},
   "outputs": [],
   "source": [
    "#importing Libraries\n",
    "\n",
    "import numpy as np\n",
    "import pandas as pd  "
   ]
  },
  {
   "cell_type": "code",
   "execution_count": 19,
   "id": "9ce82be4",
   "metadata": {},
   "outputs": [],
   "source": [
    "# Loading the CSV file\n",
    "\n",
    "df = pd.read_csv(\"C:/Users/Saptarag Kashyap/Downloads/input.csv\", header=0)"
   ]
  },
  {
   "cell_type": "code",
   "execution_count": 4,
   "id": "2d86b87c",
   "metadata": {},
   "outputs": [
    {
     "data": {
      "text/html": [
       "<div>\n",
       "<style scoped>\n",
       "    .dataframe tbody tr th:only-of-type {\n",
       "        vertical-align: middle;\n",
       "    }\n",
       "\n",
       "    .dataframe tbody tr th {\n",
       "        vertical-align: top;\n",
       "    }\n",
       "\n",
       "    .dataframe thead th {\n",
       "        text-align: right;\n",
       "    }\n",
       "</style>\n",
       "<table border=\"1\" class=\"dataframe\">\n",
       "  <thead>\n",
       "    <tr style=\"text-align: right;\">\n",
       "      <th></th>\n",
       "      <th>Employee Code</th>\n",
       "      <th>Manager Employee Code</th>\n",
       "      <th>Date of Joining</th>\n",
       "      <th>Date of Exit</th>\n",
       "      <th>Compensation</th>\n",
       "      <th>Compensation 1</th>\n",
       "      <th>Compensation 1 date</th>\n",
       "      <th>Compensation 2</th>\n",
       "      <th>Compensation 2 date</th>\n",
       "      <th>Review 1</th>\n",
       "      <th>Review 1 date</th>\n",
       "      <th>Review 2</th>\n",
       "      <th>Review 2 date</th>\n",
       "      <th>Engagement 1</th>\n",
       "      <th>Engagement 1 date</th>\n",
       "      <th>Engagement 2</th>\n",
       "      <th>Engagement 2 date</th>\n",
       "    </tr>\n",
       "  </thead>\n",
       "  <tbody>\n",
       "    <tr>\n",
       "      <th>0</th>\n",
       "      <td>1</td>\n",
       "      <td>NaN</td>\n",
       "      <td>2021-01-01</td>\n",
       "      <td>NaN</td>\n",
       "      <td>20000</td>\n",
       "      <td>NaN</td>\n",
       "      <td>NaN</td>\n",
       "      <td>NaN</td>\n",
       "      <td>NaN</td>\n",
       "      <td>NaN</td>\n",
       "      <td>NaN</td>\n",
       "      <td>NaN</td>\n",
       "      <td>NaN</td>\n",
       "      <td>NaN</td>\n",
       "      <td>NaN</td>\n",
       "      <td>NaN</td>\n",
       "      <td>NaN</td>\n",
       "    </tr>\n",
       "    <tr>\n",
       "      <th>1</th>\n",
       "      <td>2</td>\n",
       "      <td>1.0</td>\n",
       "      <td>2021-01-01</td>\n",
       "      <td>NaN</td>\n",
       "      <td>20000</td>\n",
       "      <td>10000.0</td>\n",
       "      <td>2022-01-01</td>\n",
       "      <td>20000.0</td>\n",
       "      <td>2023-01-01</td>\n",
       "      <td>9.0</td>\n",
       "      <td>2021-06-01</td>\n",
       "      <td>9.5</td>\n",
       "      <td>2022-06-01</td>\n",
       "      <td>4.0</td>\n",
       "      <td>2021-03-01</td>\n",
       "      <td>5.0</td>\n",
       "      <td>2022-03-01</td>\n",
       "    </tr>\n",
       "    <tr>\n",
       "      <th>2</th>\n",
       "      <td>3</td>\n",
       "      <td>1.0</td>\n",
       "      <td>2021-01-01</td>\n",
       "      <td>2023-12-31</td>\n",
       "      <td>20000</td>\n",
       "      <td>10000.0</td>\n",
       "      <td>2022-01-01</td>\n",
       "      <td>20000.0</td>\n",
       "      <td>2023-01-01</td>\n",
       "      <td>9.0</td>\n",
       "      <td>2021-06-01</td>\n",
       "      <td>9.5</td>\n",
       "      <td>2022-06-01</td>\n",
       "      <td>4.0</td>\n",
       "      <td>2021-03-01</td>\n",
       "      <td>5.0</td>\n",
       "      <td>2022-03-01</td>\n",
       "    </tr>\n",
       "  </tbody>\n",
       "</table>\n",
       "</div>"
      ],
      "text/plain": [
       "   Employee Code  Manager Employee Code Date of Joining Date of Exit  \\\n",
       "0              1                    NaN      2021-01-01          NaN   \n",
       "1              2                    1.0      2021-01-01          NaN   \n",
       "2              3                    1.0      2021-01-01   2023-12-31   \n",
       "\n",
       "   Compensation  Compensation 1 Compensation 1 date  Compensation 2  \\\n",
       "0         20000             NaN                 NaN             NaN   \n",
       "1         20000         10000.0          2022-01-01         20000.0   \n",
       "2         20000         10000.0          2022-01-01         20000.0   \n",
       "\n",
       "  Compensation 2 date  Review 1 Review 1 date  Review 2 Review 2 date  \\\n",
       "0                 NaN       NaN           NaN       NaN           NaN   \n",
       "1          2023-01-01       9.0    2021-06-01       9.5    2022-06-01   \n",
       "2          2023-01-01       9.0    2021-06-01       9.5    2022-06-01   \n",
       "\n",
       "   Engagement 1 Engagement 1 date  Engagement 2 Engagement 2 date  \n",
       "0           NaN               NaN           NaN               NaN  \n",
       "1           4.0        2021-03-01           5.0        2022-03-01  \n",
       "2           4.0        2021-03-01           5.0        2022-03-01  "
      ]
     },
     "execution_count": 4,
     "metadata": {},
     "output_type": "execute_result"
    }
   ],
   "source": [
    "df.head()"
   ]
  },
  {
   "cell_type": "code",
   "execution_count": 5,
   "id": "3d0ba494",
   "metadata": {},
   "outputs": [
    {
     "name": "stdout",
     "output_type": "stream",
     "text": [
      "<class 'pandas.core.frame.DataFrame'>\n",
      "RangeIndex: 3 entries, 0 to 2\n",
      "Data columns (total 17 columns):\n",
      " #   Column                 Non-Null Count  Dtype  \n",
      "---  ------                 --------------  -----  \n",
      " 0   Employee Code          3 non-null      int64  \n",
      " 1   Manager Employee Code  2 non-null      float64\n",
      " 2   Date of Joining        3 non-null      object \n",
      " 3   Date of Exit           1 non-null      object \n",
      " 4   Compensation           3 non-null      int64  \n",
      " 5   Compensation 1         2 non-null      float64\n",
      " 6   Compensation 1 date    2 non-null      object \n",
      " 7   Compensation 2         2 non-null      float64\n",
      " 8   Compensation 2 date    2 non-null      object \n",
      " 9   Review 1               2 non-null      float64\n",
      " 10  Review 1 date          2 non-null      object \n",
      " 11  Review 2               2 non-null      float64\n",
      " 12  Review 2 date          2 non-null      object \n",
      " 13  Engagement 1           2 non-null      float64\n",
      " 14  Engagement 1 date      2 non-null      object \n",
      " 15  Engagement 2           2 non-null      float64\n",
      " 16  Engagement 2 date      2 non-null      object \n",
      "dtypes: float64(7), int64(2), object(8)\n",
      "memory usage: 540.0+ bytes\n"
     ]
    }
   ],
   "source": [
    "df.info()"
   ]
  },
  {
   "cell_type": "code",
   "execution_count": 6,
   "id": "0c1ff0a8",
   "metadata": {},
   "outputs": [
    {
     "data": {
      "text/plain": [
       "<bound method NDFrame.describe of    Employee Code  Manager Employee Code Date of Joining Date of Exit  \\\n",
       "0              1                    NaN      2021-01-01          NaN   \n",
       "1              2                    1.0      2021-01-01          NaN   \n",
       "2              3                    1.0      2021-01-01   2023-12-31   \n",
       "\n",
       "   Compensation  Compensation 1 Compensation 1 date  Compensation 2  \\\n",
       "0         20000             NaN                 NaN             NaN   \n",
       "1         20000         10000.0          2022-01-01         20000.0   \n",
       "2         20000         10000.0          2022-01-01         20000.0   \n",
       "\n",
       "  Compensation 2 date  Review 1 Review 1 date  Review 2 Review 2 date  \\\n",
       "0                 NaN       NaN           NaN       NaN           NaN   \n",
       "1          2023-01-01       9.0    2021-06-01       9.5    2022-06-01   \n",
       "2          2023-01-01       9.0    2021-06-01       9.5    2022-06-01   \n",
       "\n",
       "   Engagement 1 Engagement 1 date  Engagement 2 Engagement 2 date  \n",
       "0           NaN               NaN           NaN               NaN  \n",
       "1           4.0        2021-03-01           5.0        2022-03-01  \n",
       "2           4.0        2021-03-01           5.0        2022-03-01  >"
      ]
     },
     "execution_count": 6,
     "metadata": {},
     "output_type": "execute_result"
    }
   ],
   "source": [
    "df.describe"
   ]
  },
  {
   "cell_type": "code",
   "execution_count": 8,
   "id": "461f20f5",
   "metadata": {},
   "outputs": [
    {
     "name": "stdout",
     "output_type": "stream",
     "text": [
      "\n",
      "Sorted Input Data:\n",
      "   Employee Code  Manager Employee Code Date of Joining Date of Exit  \\\n",
      "0              1                    NaN      2021-01-01          NaN   \n",
      "1              2                    1.0      2021-01-01          NaN   \n",
      "2              3                    1.0      2021-01-01   2023-12-31   \n",
      "\n",
      "   Compensation  Compensation 1 Compensation 1 date  Compensation 2  \\\n",
      "0         20000             NaN                 NaN             NaN   \n",
      "1         20000         10000.0          2022-01-01         20000.0   \n",
      "2         20000         10000.0          2022-01-01         20000.0   \n",
      "\n",
      "  Compensation 2 date  Review 1 Review 1 date  Review 2 Review 2 date  \\\n",
      "0                 NaN       NaN           NaN       NaN           NaN   \n",
      "1          2023-01-01       9.0    2021-06-01       9.5    2022-06-01   \n",
      "2          2023-01-01       9.0    2021-06-01       9.5    2022-06-01   \n",
      "\n",
      "   Engagement 1 Engagement 1 date  Engagement 2 Engagement 2 date  \n",
      "0           NaN               NaN           NaN               NaN  \n",
      "1           4.0        2021-03-01           5.0        2022-03-01  \n",
      "2           4.0        2021-03-01           5.0        2022-03-01  \n"
     ]
    }
   ],
   "source": [
    "# Sort the data by 'Employee Code' and 'Date of Joining'\n",
    "df.sort_values(by=['Employee Code', 'Date of Joining'], inplace=True)\n",
    "\n",
    "# Display the sorted data\n",
    "print(\"\\nSorted Input Data:\")\n",
    "print(df.head())\n"
   ]
  },
  {
   "cell_type": "code",
   "execution_count": 9,
   "id": "31439659",
   "metadata": {},
   "outputs": [],
   "source": [
    "prev_compensation = {}\n",
    "prev_review = {}\n",
    "prev_engagement = {}"
   ]
  },
  {
   "cell_type": "code",
   "execution_count": 10,
   "id": "e6604670",
   "metadata": {},
   "outputs": [],
   "source": [
    "transformed_data = []"
   ]
  },
  {
   "cell_type": "code",
   "execution_count": 13,
   "id": "ceeebc6c",
   "metadata": {},
   "outputs": [],
   "source": [
    "for index, row in df.iterrows():\n",
    "    employee_code = row['Employee Code']\n",
    "    \n",
    "    # Process compensation data\n",
    "    compensation = prev_compensation.get(employee_code, row['Compensation'])\n",
    "    prev_compensation[employee_code] = row['Compensation']\n",
    "    \n",
    "    # Process review data\n",
    "    review = prev_review.get(employee_code, row['Review 1'])\n",
    "    prev_review[employee_code] = row['Review 1']\n",
    "    \n",
    "    # Process engagement data\n",
    "    engagement = prev_engagement.get(employee_code, row['Engagement 1'])\n",
    "    prev_engagement[employee_code] = row['Engagement 1']\n",
    "    \n",
    "    # Derive effective and end dates\n",
    "    effective_date = row['Date of Joining']\n",
    "    end_date = df.loc[index + 1, 'Date of Joining'] if index < len(df) - 1 else '2100-01-01'\n",
    "    end_date = pd.to_datetime(end_date) - pd.Timedelta(days=1)\n",
    "    \n",
    "    # Append the transformed record to the list\n",
    "    transformed_data.append({\n",
    "        'Employee Code': employee_code,\n",
    "        'Manager Employee Code': row['Manager Employee Code'],\n",
    "        'Last Compensation': prev_compensation.get(employee_code, ''),\n",
    "        'Compensation': compensation,\n",
    "        'Last Pay Raise Date': row['Compensation 2 date'],\n",
    "        'Variable Pay': '',\n",
    "        'Tenure in Org': '',\n",
    "        'Performance Rating': review,\n",
    "        'Engagement Score': engagement,\n",
    "        'Effective Date': effective_date,\n",
    "        'End Date': end_date.strftime('%Y-%m-%d')\n",
    "    })\n"
   ]
  },
  {
   "cell_type": "code",
   "execution_count": 14,
   "id": "c436fb0b",
   "metadata": {},
   "outputs": [
    {
     "name": "stdout",
     "output_type": "stream",
     "text": [
      "\n",
      "Transformed Data:\n",
      "   Employee Code  Manager Employee Code  Last Compensation  Compensation  \\\n",
      "0              1                    NaN              20000         20000   \n",
      "1              2                    1.0              20000         20000   \n",
      "2              3                    1.0              20000         20000   \n",
      "3              1                    NaN              20000         20000   \n",
      "4              2                    1.0              20000         20000   \n",
      "5              3                    1.0              20000         20000   \n",
      "\n",
      "  Last Pay Raise Date Variable Pay Tenure in Org  Performance Rating  \\\n",
      "0                 NaN                                            NaN   \n",
      "1          2023-01-01                                            9.0   \n",
      "2          2023-01-01                                            9.0   \n",
      "3                 NaN                                            NaN   \n",
      "4          2023-01-01                                            9.0   \n",
      "5          2023-01-01                                            9.0   \n",
      "\n",
      "   Engagement Score Effective Date    End Date  \n",
      "0               NaN     2021-01-01  2020-12-31  \n",
      "1               4.0     2021-01-01  2020-12-31  \n",
      "2               4.0     2021-01-01  2099-12-31  \n",
      "3               NaN     2021-01-01  2020-12-31  \n",
      "4               4.0     2021-01-01  2020-12-31  \n",
      "5               4.0     2021-01-01  2099-12-31  \n"
     ]
    }
   ],
   "source": [
    "transformed_df = pd.DataFrame(transformed_data)\n",
    "\n",
    "# Display the transformed data\n",
    "print(\"\\nTransformed Data:\")\n",
    "print(transformed_df)"
   ]
  },
  {
   "cell_type": "code",
   "execution_count": 17,
   "id": "9e2f858b",
   "metadata": {},
   "outputs": [
    {
     "data": {
      "text/plain": [
       "'C:\\\\Users\\\\Saptarag Kashyap'"
      ]
     },
     "execution_count": 17,
     "metadata": {},
     "output_type": "execute_result"
    }
   ],
   "source": [
    "pwd"
   ]
  },
  {
   "cell_type": "code",
   "execution_count": 18,
   "id": "1d9ce46e",
   "metadata": {},
   "outputs": [
    {
     "name": "stdout",
     "output_type": "stream",
     "text": [
      "\n",
      "Output file 'output_data.csv' has been created successfully in the directory 'C:\\Users\\Saptarag Kashyap'.\n"
     ]
    }
   ],
   "source": [
    "# Write the transformed data to a new CSV file in the specified directory\n",
    "transformed_df.to_csv('C:\\\\Users\\\\Saptarag Kashyap\\\\output_data.csv', index=False)\n",
    "\n",
    "print(\"\\nOutput file 'output_data.csv' has been created successfully in the directory 'C:\\\\Users\\\\Saptarag Kashyap'.\")\n"
   ]
  },
  {
   "cell_type": "code",
   "execution_count": null,
   "id": "b0365081",
   "metadata": {},
   "outputs": [],
   "source": []
  }
 ],
 "metadata": {
  "kernelspec": {
   "display_name": "Python 3 (ipykernel)",
   "language": "python",
   "name": "python3"
  },
  "language_info": {
   "codemirror_mode": {
    "name": "ipython",
    "version": 3
   },
   "file_extension": ".py",
   "mimetype": "text/x-python",
   "name": "python",
   "nbconvert_exporter": "python",
   "pygments_lexer": "ipython3",
   "version": "3.11.5"
  }
 },
 "nbformat": 4,
 "nbformat_minor": 5
}
